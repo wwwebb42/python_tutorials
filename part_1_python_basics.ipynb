{
 "cells": [
  {
   "cell_type": "markdown",
   "metadata": {},
   "source": [
    "# Python: Pandas basics"
   ]
  },
  {
   "cell_type": "markdown",
   "metadata": {},
   "source": [
    "To cover:\n",
    "\n",
    "Key concepts of series and dataframe objects\n",
    "Reading data\n",
    "Summaries / aggregations / split, apply, combine\n",
    "Joins\n",
    "Speed\n",
    "Transformations (e.g. apply etc)\n",
    "Functions - e.g. regex, etc\n",
    "Dates and times?\n",
    "\n",
    "\n",
    "Other demos:\n",
    "Flask app?\n",
    "GUI (e.g. TKinter?)\n",
    "Maybe better: interactive charts with Bokeh or Chartify\n",
    "\n"
   ]
  }
 ],
 "metadata": {
  "kernelspec": {
   "display_name": "Python 3",
   "language": "python",
   "name": "python3"
  },
  "language_info": {
   "codemirror_mode": {
    "name": "ipython",
    "version": 3
   },
   "file_extension": ".py",
   "mimetype": "text/x-python",
   "name": "python",
   "nbconvert_exporter": "python",
   "pygments_lexer": "ipython3",
   "version": "3.7.1"
  }
 },
 "nbformat": 4,
 "nbformat_minor": 2
}
